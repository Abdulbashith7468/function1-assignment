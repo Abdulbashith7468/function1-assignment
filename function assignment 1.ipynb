{
 "cells": [
  {
   "cell_type": "code",
   "execution_count": 17,
   "id": "bda1df74-e3ce-460a-b59d-e939b7048cc8",
   "metadata": {},
   "outputs": [],
   "source": [
    "lists=[\"subfields in AI are:\",\"Machine Learning,Neural Networks\",\"Vision\",\"Robotics\",\"Speech Processing\",\"Natural Language Processes\"]"
   ]
  },
  {
   "cell_type": "code",
   "execution_count": 18,
   "id": "c955a260-15f3-45e6-9295-a94221c18b5c",
   "metadata": {},
   "outputs": [],
   "source": [
    "def subfieldsinAI():\n",
    "    for subfields in lists:\n",
    "        print(subfields)"
   ]
  },
  {
   "cell_type": "code",
   "execution_count": 19,
   "id": "90e22801-32b8-4863-81e1-21f95b848b29",
   "metadata": {},
   "outputs": [
    {
     "name": "stdout",
     "output_type": "stream",
     "text": [
      "subfields in AI are:\n",
      "Machine Learning,Neural Networks\n",
      "Vision\n",
      "Robotics\n",
      "Speech Processing\n",
      "Natural Language Processes\n"
     ]
    }
   ],
   "source": [
    "subfieldsinAI()"
   ]
  },
  {
   "cell_type": "code",
   "execution_count": 25,
   "id": "2f2ed185-9da3-449d-a8ee-b93eeac1d3c9",
   "metadata": {},
   "outputs": [],
   "source": [
    "def oddeven():\n",
    "    num=int(input(\"enter the value\"))\n",
    "    if(num%2==1):\n",
    "        print(num,\"is odd number\")\n",
    "        value=num,\"is odd number\"\n",
    "    else:\n",
    "        print(num,\"is even number\")\n",
    "        value=num,\"is even number\"\n",
    "    return oddeven"
   ]
  },
  {
   "cell_type": "code",
   "execution_count": 26,
   "id": "ae81df03-5562-4683-9d5c-03bdfaf5426d",
   "metadata": {},
   "outputs": [
    {
     "name": "stdin",
     "output_type": "stream",
     "text": [
      "enter the value 52452\n"
     ]
    },
    {
     "name": "stdout",
     "output_type": "stream",
     "text": [
      "52452 is even number\n"
     ]
    },
    {
     "data": {
      "text/plain": [
       "<function __main__.oddeven()>"
      ]
     },
     "execution_count": 26,
     "metadata": {},
     "output_type": "execute_result"
    }
   ],
   "source": [
    "oddeven()"
   ]
  },
  {
   "cell_type": "code",
   "execution_count": 41,
   "id": "9f66dac0-a5e2-4787-add3-e1f9b6f9d28c",
   "metadata": {},
   "outputs": [],
   "source": [
    "def eligibleformarriage():\n",
    "    gender=input(\"your gender:\")\n",
    "    age=int(input(\"your age:\"))\n",
    "    if(age<25):\n",
    "        print(\"Not Eligible for Marriage\")\n",
    "        approve=\"Not Eligible for Marriage\"\n",
    "    else:\n",
    "        print(\"Eligible for Marriage\")\n",
    "        approve=\"Eligible for Marriage\"\n",
    "    return approve"
   ]
  },
  {
   "cell_type": "code",
   "execution_count": 46,
   "id": "a704af20-c8f3-48cd-9749-c8a6d0731abb",
   "metadata": {},
   "outputs": [
    {
     "name": "stdin",
     "output_type": "stream",
     "text": [
      "enter your gender male\n",
      "enter your age 20\n"
     ]
    },
    {
     "name": "stdout",
     "output_type": "stream",
     "text": [
      "Not Eligible for Marriage\n"
     ]
    },
    {
     "data": {
      "text/plain": [
       "'Not Eligible for Marriage'"
      ]
     },
     "execution_count": 46,
     "metadata": {},
     "output_type": "execute_result"
    }
   ],
   "source": [
    "eligibleformarriage()"
   ]
  },
  {
   "cell_type": "code",
   "execution_count": 61,
   "id": "fd5b19dc-f909-42c7-897d-e5a16a8e7c29",
   "metadata": {},
   "outputs": [],
   "source": [
    "def findpercentage():\n",
    "    sub1=int(input(\"subject1=\"))\n",
    "    sub2=int(input(\"subject2=\"))\n",
    "    sub3=int(input(\"subject3=\"))\n",
    "    sub4=int(input(\"subject4=\"))\n",
    "    sub5=int(input(\"subject5=\"))\n",
    "    total=sub1+sub2+sub3+sub4+sub5\n",
    "    percentage=float(total/5)\n",
    "    print(\"percentage:\",percentage)\n",
    "    return percentage"
   ]
  },
  {
   "cell_type": "code",
   "execution_count": 62,
   "id": "a05692bf-4c8e-413c-8a3e-981eb917a912",
   "metadata": {},
   "outputs": [
    {
     "name": "stdin",
     "output_type": "stream",
     "text": [
      "subject1= 98\n",
      "subject2= 87\n",
      "subject3= 95\n",
      "subject4= 95\n",
      "subject5= 93\n"
     ]
    },
    {
     "name": "stdout",
     "output_type": "stream",
     "text": [
      "percentage: 93.6\n"
     ]
    },
    {
     "data": {
      "text/plain": [
       "93.6"
      ]
     },
     "execution_count": 62,
     "metadata": {},
     "output_type": "execute_result"
    }
   ],
   "source": [
    "findpercentage()"
   ]
  },
  {
   "cell_type": "code",
   "execution_count": 59,
   "id": "5ceef51c-fb61-4e20-956e-7ada7bae05cb",
   "metadata": {},
   "outputs": [
    {
     "name": "stdin",
     "output_type": "stream",
     "text": [
      "subject1= 98\n",
      "subject2= 87\n",
      "subject3= 95\n",
      "subject4= 95\n",
      "subject5= 93\n"
     ]
    },
    {
     "name": "stdout",
     "output_type": "stream",
     "text": [
      "percentage: 93.6\n"
     ]
    }
   ],
   "source": [
    "stundent1=findpercentage()"
   ]
  },
  {
   "cell_type": "code",
   "execution_count": 60,
   "id": "538375a0-d070-419c-a4fb-f46dc839aad1",
   "metadata": {},
   "outputs": [
    {
     "name": "stdin",
     "output_type": "stream",
     "text": [
      "subject1= 99\n",
      "subject2= 92\n",
      "subject3= 96\n",
      "subject4= 100\n",
      "subject5= 98\n"
     ]
    },
    {
     "name": "stdout",
     "output_type": "stream",
     "text": [
      "percentage: 97.0\n"
     ]
    }
   ],
   "source": [
    "student2=findpercentage()"
   ]
  },
  {
   "cell_type": "code",
   "execution_count": 66,
   "id": "ba69c3fe-ce63-4e86-bdc3-333b47d10ca2",
   "metadata": {},
   "outputs": [],
   "source": [
    "def triangle():\n",
    "    height=int(input(\"Height:\"))\n",
    "    breadth=int(input(\"Breadth:\"))\n",
    "    area=(height*breadth)/2\n",
    "    print(\"area of triangle:\",area)\n",
    "    height1=int(input(\"Height1:\"))\n",
    "    height2=int(input(\"Height2:\"))\n",
    "    breadth1=int(input(\"breadth1:\"))\n",
    "    perimeter=height1+height2+breadth1\n",
    "    print(\"perimeter of triangle:\",perimeter)\n",
    "    return area"
   ]
  },
  {
   "cell_type": "code",
   "execution_count": 67,
   "id": "db66f404-0454-4da7-98d2-0d9a52b2df90",
   "metadata": {},
   "outputs": [
    {
     "name": "stdin",
     "output_type": "stream",
     "text": [
      "Height: 32\n",
      "Breadth: 34\n"
     ]
    },
    {
     "name": "stdout",
     "output_type": "stream",
     "text": [
      "area of triangle: 544.0\n"
     ]
    },
    {
     "name": "stdin",
     "output_type": "stream",
     "text": [
      "Height1: 2\n",
      "Height2: 4\n",
      "breadth1: 4\n"
     ]
    },
    {
     "name": "stdout",
     "output_type": "stream",
     "text": [
      "perimeter of triangle: 10\n"
     ]
    },
    {
     "data": {
      "text/plain": [
       "544.0"
      ]
     },
     "execution_count": 67,
     "metadata": {},
     "output_type": "execute_result"
    }
   ],
   "source": [
    "triangle()"
   ]
  },
  {
   "cell_type": "code",
   "execution_count": 69,
   "id": "fa8367a5-80bf-4c38-9a62-65be2bcedce0",
   "metadata": {},
   "outputs": [
    {
     "name": "stdin",
     "output_type": "stream",
     "text": [
      "Height: 32\n",
      "Breadth: 34\n"
     ]
    },
    {
     "name": "stdout",
     "output_type": "stream",
     "text": [
      "area of triangle: 544.0\n"
     ]
    },
    {
     "name": "stdin",
     "output_type": "stream",
     "text": [
      "Height1: 2\n",
      "Height2: 4\n",
      "breadth1: 4\n"
     ]
    },
    {
     "name": "stdout",
     "output_type": "stream",
     "text": [
      "perimeter of triangle: 10\n"
     ]
    }
   ],
   "source": [
    "set1=triangle()"
   ]
  },
  {
   "cell_type": "code",
   "execution_count": 70,
   "id": "53a1b97f-489c-428f-9c6a-b6b4027fb3ca",
   "metadata": {},
   "outputs": [
    {
     "name": "stdin",
     "output_type": "stream",
     "text": [
      "Height: 44\n",
      "Breadth: 60\n"
     ]
    },
    {
     "name": "stdout",
     "output_type": "stream",
     "text": [
      "area of triangle: 1320.0\n"
     ]
    },
    {
     "name": "stdin",
     "output_type": "stream",
     "text": [
      "Height1: 10\n",
      "Height2: 12\n",
      "breadth1: 12\n"
     ]
    },
    {
     "name": "stdout",
     "output_type": "stream",
     "text": [
      "perimeter of triangle: 34\n"
     ]
    }
   ],
   "source": [
    "set2=triangle()"
   ]
  },
  {
   "cell_type": "code",
   "execution_count": null,
   "id": "fc04ca41-27d8-4b3d-bef9-620902d98122",
   "metadata": {},
   "outputs": [],
   "source": []
  }
 ],
 "metadata": {
  "kernelspec": {
   "display_name": "Python 3 (ipykernel)",
   "language": "python",
   "name": "python3"
  },
  "language_info": {
   "codemirror_mode": {
    "name": "ipython",
    "version": 3
   },
   "file_extension": ".py",
   "mimetype": "text/x-python",
   "name": "python",
   "nbconvert_exporter": "python",
   "pygments_lexer": "ipython3",
   "version": "3.12.4"
  }
 },
 "nbformat": 4,
 "nbformat_minor": 5
}
